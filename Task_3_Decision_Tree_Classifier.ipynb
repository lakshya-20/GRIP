{
 "cells": [
  {
   "cell_type": "markdown",
   "metadata": {
    "id": "dnq9y3KqsYi0"
   },
   "source": [
    "# Task 3 Prediction using Decision Tree Algorithm\n",
    "### For the given ‘Iris’ dataset, create the Decision Tree classifier and visualize it graphically. \n",
    "## By [Lakshya Bansal](http://www.lakshyabansal.me/)"
   ]
  },
  {
   "cell_type": "markdown",
   "metadata": {
    "id": "F6blLJI_tFTY"
   },
   "source": [
    "**Installing Dependencies**"
   ]
  },
  {
   "cell_type": "code",
   "execution_count": 25,
   "metadata": {
    "id": "nOwXq7EOr88e"
   },
   "outputs": [],
   "source": [
    "import numpy as np\n",
    "import pandas as pd\n",
    "import matplotlib.pyplot as plt\n",
    "from sklearn import datasets\n",
    "from sklearn.tree import DecisionTreeClassifier\n",
    "from sklearn import tree\n",
    "from sklearn.model_selection import train_test_split\n",
    "from sklearn.metrics import classification_report, confusion_matrix"
   ]
  },
  {
   "cell_type": "markdown",
   "metadata": {
    "id": "ghmFQDaltPeR"
   },
   "source": [
    "**Loading Dataset**"
   ]
  },
  {
   "cell_type": "code",
   "execution_count": 18,
   "metadata": {
    "id": "Jog4mDSNsFMT"
   },
   "outputs": [],
   "source": [
    "iris_data=datasets.load_iris()\n",
    "X=iris_data.data\n",
    "Y=iris_data.target"
   ]
  },
  {
   "cell_type": "markdown",
   "metadata": {
    "id": "Q36CQFcpzLyg"
   },
   "source": [
    "**Splitting Dataset**"
   ]
  },
  {
   "cell_type": "code",
   "execution_count": 19,
   "metadata": {
    "id": "Amj1cMfUvKea"
   },
   "outputs": [],
   "source": [
    "X_train, X_test, Y_train, Y_test = train_test_split(X, Y, test_size=0.20)"
   ]
  },
  {
   "cell_type": "markdown",
   "metadata": {
    "id": "HsQtJJ6ctUB6"
   },
   "source": [
    "**Initializing and training model**"
   ]
  },
  {
   "cell_type": "code",
   "execution_count": 20,
   "metadata": {
    "id": "Ae42VuAzsdKu"
   },
   "outputs": [],
   "source": [
    "dtc=DecisionTreeClassifier(random_state=1)\n",
    "dtc_model=dtc.fit(X_train,Y_train)"
   ]
  },
  {
   "cell_type": "markdown",
   "metadata": {
    "id": "XTSObGwytZaq"
   },
   "source": [
    "**Plotting Tree**"
   ]
  },
  {
   "cell_type": "code",
   "execution_count": 21,
   "metadata": {
    "colab": {
     "base_uri": "https://localhost:8080/",
     "height": 248
    },
    "id": "GhrAiDBPse76",
    "outputId": "cae8fd79-f2df-4e7e-ea81-e2eaa51f0620"
   },
   "outputs": [
    {
     "data": {
      "image/png": "[encoded data removed]",
      "text/plain": [
       "<Figure size 432x288 with 1 Axes>"
      ]
     },
     "metadata": {
      "needs_background": "light",
      "tags": []
     },
     "output_type": "display_data"
    }
   ],
   "source": [
    "_ = tree.plot_tree(dtc,feature_names=iris_data.feature_names,class_names=iris_data.target_names,filled=True)"
   ]
  },
  {
   "cell_type": "markdown",
   "metadata": {
    "id": "7TkhFHATtgGh"
   },
   "source": [
    "**Text Representation**"
   ]
  },
  {
   "cell_type": "code",
   "execution_count": 22,
   "metadata": {
    "colab": {
     "base_uri": "https://localhost:8080/",
     "height": 403
    },
    "id": "w5jQ3leJsgOD",
    "outputId": "1015d15e-9817-4758-b326-2ae22551c0db"
   },
   "outputs": [
    {
     "name": "stdout",
     "output_type": "stream",
     "text": [
      "|--- feature_3 <= 0.80\n",
      "|   |--- class: 0\n",
      "|--- feature_3 >  0.80\n",
      "|   |--- feature_3 <= 1.75\n",
      "|   |   |--- feature_2 <= 4.95\n",
      "|   |   |   |--- feature_3 <= 1.65\n",
      "|   |   |   |   |--- class: 1\n",
      "|   |   |   |--- feature_3 >  1.65\n",
      "|   |   |   |   |--- class: 2\n",
      "|   |   |--- feature_2 >  4.95\n",
      "|   |   |   |--- feature_3 <= 1.55\n",
      "|   |   |   |   |--- class: 2\n",
      "|   |   |   |--- feature_3 >  1.55\n",
      "|   |   |   |   |--- class: 1\n",
      "|   |--- feature_3 >  1.75\n",
      "|   |   |--- feature_2 <= 4.85\n",
      "|   |   |   |--- feature_0 <= 5.95\n",
      "|   |   |   |   |--- class: 1\n",
      "|   |   |   |--- feature_0 >  5.95\n",
      "|   |   |   |   |--- class: 2\n",
      "|   |   |--- feature_2 >  4.85\n",
      "|   |   |   |--- class: 2\n",
      "\n"
     ]
    }
   ],
   "source": [
    "text_representation = tree.export_text(dtc)\n",
    "print(text_representation)"
   ]
  },
  {
   "cell_type": "markdown",
   "metadata": {
    "id": "S_1THe1cy3jx"
   },
   "source": [
    "**Predicting Model**"
   ]
  },
  {
   "cell_type": "code",
   "execution_count": 29,
   "metadata": {
    "id": "hFBALWPJs67g"
   },
   "outputs": [],
   "source": [
    "Y_pred=dtc_model.predict(X_test)"
   ]
  },
  {
   "cell_type": "markdown",
   "metadata": {
    "id": "DQSRsxSSy8HY"
   },
   "source": [
    "**Evaluating Model**"
   ]
  },
  {
   "cell_type": "code",
   "execution_count": 30,
   "metadata": {
    "colab": {
     "base_uri": "https://localhost:8080/",
     "height": 235
    },
    "id": "k7xlF-GRyaHK",
    "outputId": "7d813da1-cd06-4b45-d721-4a4d01580a3d"
   },
   "outputs": [
    {
     "name": "stdout",
     "output_type": "stream",
     "text": [
      "[[ 7  0  0]\n",
      " [ 0  8  0]\n",
      " [ 0  1 14]]\n",
      "              precision    recall  f1-score   support\n",
      "\n",
      "           0       1.00      1.00      1.00         7\n",
      "           1       0.89      1.00      0.94         8\n",
      "           2       1.00      0.93      0.97        15\n",
      "\n",
      "    accuracy                           0.97        30\n",
      "   macro avg       0.96      0.98      0.97        30\n",
      "weighted avg       0.97      0.97      0.97        30\n",
      "\n"
     ]
    }
   ],
   "source": [
    "print(confusion_matrix(Y_test, Y_pred))\n",
    "print(classification_report(Y_test, Y_pred))"
   ]
  },
  {
   "cell_type": "code",
   "execution_count": null,
   "metadata": {
    "id": "ZoxrqAw4uzi2"
   },
   "outputs": [],
   "source": []
  }
 ],
 "metadata": {
  "colab": {
   "collapsed_sections": [],
   "name": "Task 3 Decision Tree Classifier",
   "provenance": []
  },
  "kernelspec": {
   "display_name": "Python 3",
   "language": "python",
   "name": "python3"
  },
  "language_info": {
   "codemirror_mode": {
    "name": "ipython",
    "version": 3
   },
   "file_extension": ".py",
   "mimetype": "text/x-python",
   "name": "python",
   "nbconvert_exporter": "python",
   "pygments_lexer": "ipython3",
   "version": "3.7.1"
  }
 },
 "nbformat": 4,
 "nbformat_minor": 1
}
